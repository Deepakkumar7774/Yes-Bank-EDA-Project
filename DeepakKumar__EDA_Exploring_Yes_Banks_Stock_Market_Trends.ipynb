{
  "cells": [
    {
      "cell_type": "markdown",
      "source": [
        "**Yes Bank_Stock Market Analysis EDA Project**"
      ],
      "metadata": {
        "id": "WcLsgul-SSVg"
      }
    },
    {
      "cell_type": "markdown",
      "metadata": {
        "id": "vncDsAP0Gaoa"
      },
      "source": [
        "# **Project Name**    - Exploring_Yes_Banks_Stock_Market_analysis\n",
        "\n"
      ]
    },
    {
      "cell_type": "markdown",
      "metadata": {
        "id": "beRrZCGUAJYm"
      },
      "source": [
        "##### **Project Type**    - EDA\n",
        "##### **Contribution**    - Individual\n",
        "##### **Name**            - Deepak Kumar\n"
      ]
    },
    {
      "cell_type": "markdown",
      "metadata": {
        "id": "FJNUwmbgGyua"
      },
      "source": [
        "# **Project Summary -**"
      ]
    },
    {
      "cell_type": "markdown",
      "metadata": {
        "id": "F6v_1wHtG2nS"
      },
      "source": [
        "**YES Bank Stock Performance Analysis Post-Fraud Case (FY 2018)**\n",
        "\n",
        "**Overview 🌟**\n",
        "\n",
        "YES Bank, a leading Indian bank operating nationwide since 2004 🏦, faced a major setback in FY 2018 due to a high-profile fraud case involving its co-founder, Rana Kapoor 💼. This scandal severely impacted the bank's stock price 📉, leading to a loss of investor confidence and significant market volatility.\n",
        "\n",
        "In this project, I analyzed 184 trading sessions 📊 of YES Bank's stock data to uncover insights and patterns. The dataset included key metrics such as opening price 🟢, closing price 🔴, highest price ⬆️, and lowest price ⬇️. Through exploratory data analysis (EDA) 🔍 and data visualization 📊, I aimed to understand the impact of the fraud case on stock performance, identify trends, and derive actionable insights for investors and stakeholders.\n",
        "\n",
        "**Detailed Analysis 📑**\n",
        "\n",
        "**1. Problem Statement 🎯**\n",
        "\n",
        "**Objective:** Analyze YES Bank's stock performance post the FY 2018 fraud case to understand its impact on stock prices and investor sentiment.\n",
        "\n",
        "**Key Questions:**\n",
        "\n",
        "How did the stock price trend change after the scandal?\n",
        "\n",
        "What were the key patterns in monthly stock performance?\n",
        "\n",
        "How did the fraud case influence market volatility and investor behavior?\n",
        "\n",
        "**2. Dataset Description 📂**\n",
        "\n",
        "The dataset contains 184 trading sessions of YES Bank's stock data, including:\n",
        "\n",
        "Opening Price 🟢: The stock price at the start of the trading day.\n",
        "\n",
        "Closing Price 🔴: The stock price at the end of the trading day.\n",
        "\n",
        "Highest Price ⬆️: The maximum price reached during the trading day.\n",
        "\n",
        "Lowest Price ⬇️: The minimum price reached during the trading day.\n",
        "\n",
        "**3. Approach and Methodology 🔧**\n",
        "\n",
        "**Step 1: Data Collection and Cleaning 🧹**\n",
        "\n",
        "Collected historical stock price data for 184 trading sessions.\n",
        "\n",
        "Cleaned the dataset to handle missing values, inconsistencies, and outliers.\n",
        "\n",
        "**Step 2: Exploratory Data Analysis (EDA) 🔍**\n",
        "\n",
        "Performed EDA to identify trends, correlations, and anomalies in the stock price movements.\n",
        "\n",
        "Analyzed monthly trends to detect patterns in opening, closing, highest, and lowest prices.\n",
        "\n",
        "**Step 3: Data Visualization 📊**\n",
        "\n",
        "**Created interactive visualizations using Matplotlib and Seaborn to make the data more understandable:**\n",
        "\n",
        "**Line charts** to track stock price trends over time.\n",
        "\n",
        "**Bar charts** to compare monthly high and low prices.\n",
        "\n",
        "**Histograms** to understand the distribution of closing prices.\n",
        "\n",
        "**Heatmaps** to highlight correlations between variables like Open, Close, High, and Low.\n",
        "\n",
        "**Box plots** and **violin plots** to analyze price volatility.\n",
        "\n",
        "**Scatter plots** to visualize relationships between opening and closing prices.\n",
        "\n",
        "**Pie charts** to show the percentage of high and low prices.\n",
        "\n",
        "\n",
        "**Step 4: Insight Generation 💡**\n",
        "\n",
        "Derived actionable insights to understand the stock's performance before, during, and after the fraud case.\n",
        "\n",
        "Identified key factors influencing stock price volatility and recovery patterns.\n",
        "\n",
        "**4. Key Findings 📊**\n",
        "\n",
        "**Sharp Decline Post-Scandal 📉**\n",
        "\n",
        "The stock price experienced a significant drop immediately after the fraud case came to light, reflecting a loss of investor trust.\n",
        "\n",
        "**Increased Volatility 🌪️**\n",
        "\n",
        "Higher volatility was observed in the months following the scandal, with frequent fluctuations in opening and closing prices.\n",
        "\n",
        "**Recovery Patterns 🔄**\n",
        "\n",
        "Identified periods of partial recovery, indicating attempts by the market to stabilize the stock price.\n",
        "\n",
        "**Monthly Trends 📅**\n",
        "\n",
        "Certain months showed consistent patterns, such as higher trading volumes or price spikes, which could be linked to external market factors.\n",
        "\n",
        "**5. Tools and Technologies Used 🛠️**\n",
        "\n",
        "Python: For data processing and analysis.\n",
        "\n",
        "Pandas & NumPy: For data cleaning and manipulation.\n",
        "\n",
        "Matplotlib & Seaborn: For data visualization.\n",
        "\n",
        "Jupyter Notebook: For interactive analysis and reporting.\n",
        "\n",
        "**6. Impact and Value Addition 💡**\n",
        "\n",
        "This analysis provided a clear understanding of how the fraud case impacted YES Bank's stock performance and highlighted key trends in its recovery journey. The insights can be valuable for:\n",
        "\n",
        "**Investors:** To make informed decisions based on historical trends.\n",
        "\n",
        "**Analysts:** To understand market behavior during crises.\n",
        "\n",
        "**Stakeholders:** To assess the long-term impact of the scandal on the bank's financial health."
      ]
    },
    {
      "cell_type": "markdown",
      "metadata": {
        "id": "w6K7xa23Elo4"
      },
      "source": [
        "# **GitHub Link -**"
      ]
    },
    {
      "cell_type": "markdown",
      "metadata": {
        "id": "VKeNVzVcRiwY"
      },
      "source": [
        "https://github.com/Deepakkumar7774/Yes-Bank-EDA-Project"
      ]
    },
    {
      "cell_type": "markdown",
      "metadata": {
        "id": "yQaldy8SH6Dl"
      },
      "source": [
        "# **Problem Statement**\n"
      ]
    },
    {
      "cell_type": "markdown",
      "metadata": {
        "id": "DpeJGUA3kjGy"
      },
      "source": [
        "**Yes Bank, a prominent Indian bank, experienced a significant financial scandal in FY 2018, which heavily impacted its stock prices. Understanding the factors influencing stock behavior—such as trends, volatility, and correlations—has become critical for making informed investment decisions and devising strategic financial plans. 📈💼 This project aims to analyze historical stock price data, including variables like opening, closing, high, and low prices, to uncover insights and patterns that can support investors and stakeholders in navigating future market scenarios. 📊🔍**"
      ]
    },
    {
      "cell_type": "markdown",
      "metadata": {
        "id": "PH-0ReGfmX4f"
      },
      "source": [
        "#### **Define Your Business Objective?**"
      ]
    },
    {
      "cell_type": "markdown",
      "metadata": {
        "id": "PhDvGCAqmjP1"
      },
      "source": [
        "**The objective is to explore data anaylsis on the given data to uncover insights and patterns.**\n",
        "\n",
        "1. Understanding the overall trends of price.\n",
        "2. Identifying any significant change in the stock price.\n",
        "3. Analyzing any volatility of the stock price.\n",
        "4. And finding an overview and effects on the stock over a period of time."
      ]
    },
    {
      "cell_type": "markdown",
      "metadata": {
        "id": "O_i_v8NEhb9l"
      },
      "source": [
        "# ***Let's Begin !***"
      ]
    },
    {
      "cell_type": "markdown",
      "metadata": {
        "id": "Y3lxredqlCYt"
      },
      "source": [
        "### Import Libraries"
      ]
    },
    {
      "cell_type": "code",
      "execution_count": null,
      "metadata": {
        "id": "M8Vqi-pPk-HR"
      },
      "outputs": [],
      "source": [
        "import seaborn as sns\n",
        "import pandas as pd\n",
        "import matplotlib.pyplot as plt\n",
        "import numpy as np\n"
      ]
    },
    {
      "cell_type": "markdown",
      "metadata": {
        "id": "3RnN4peoiCZX"
      },
      "source": [
        "### Dataset Loading"
      ]
    },
    {
      "cell_type": "code",
      "execution_count": null,
      "metadata": {
        "id": "4CkvbW_SlZ_R"
      },
      "outputs": [],
      "source": [
        "import pandas as pd\n",
        "file_path = (\"/content/data_YesBank_StockPrices.csv\")\n",
        "df = pd.read_csv(file_path)\n",
        "print(df.head())\n",
        "print(df.tail())"
      ]
    },
    {
      "cell_type": "markdown",
      "metadata": {
        "id": "x71ZqKXriCWQ"
      },
      "source": [
        "### Dataset First View"
      ]
    },
    {
      "cell_type": "code",
      "execution_count": null,
      "metadata": {
        "id": "LWNFOSvLl09H"
      },
      "outputs": [],
      "source": [
        "print(df.info())\n"
      ]
    },
    {
      "cell_type": "markdown",
      "metadata": {
        "id": "7hBIi_osiCS2"
      },
      "source": [
        "### Dataset Rows & Columns count"
      ]
    },
    {
      "cell_type": "code",
      "execution_count": null,
      "metadata": {
        "id": "Kllu7SJgmLij"
      },
      "outputs": [],
      "source": [
        "print(\"The total count of rows & coloumns:\", df.shape)\n"
      ]
    },
    {
      "cell_type": "markdown",
      "metadata": {
        "id": "35m5QtbWiB9F"
      },
      "source": [
        "#### Duplicate Values"
      ]
    },
    {
      "cell_type": "code",
      "execution_count": null,
      "metadata": {
        "id": "1sLdpKYkmox0"
      },
      "outputs": [],
      "source": [
        "\n",
        "print(df.duplicated().sum())"
      ]
    },
    {
      "cell_type": "markdown",
      "metadata": {
        "id": "PoPl-ycgm1ru"
      },
      "source": [
        "#### Missing Values/Null Values"
      ]
    },
    {
      "cell_type": "code",
      "execution_count": null,
      "metadata": {
        "id": "GgHWkxvamxVg"
      },
      "outputs": [],
      "source": [
        "print(df.isnull().sum())"
      ]
    },
    {
      "cell_type": "code",
      "execution_count": null,
      "metadata": {
        "id": "3q5wnI3om9sJ"
      },
      "outputs": [],
      "source": [
        "import seaborn as sns\n",
        "import matplotlib.pyplot as plt\n",
        "\n",
        "plt.figure(figsize=(10,6))\n",
        "sns.heatmap(df.isnull(), cbar=False, cmap='viridis', yticklabels=False)\n",
        "plt.title('Heatmap of missing values')\n",
        "plt.show()"
      ]
    },
    {
      "cell_type": "markdown",
      "metadata": {
        "id": "H0kj-8xxnORC"
      },
      "source": [
        "The given data shows the high, low, open and close price, and has there is no missing values we will proced with the further analysis."
      ]
    },
    {
      "cell_type": "markdown",
      "metadata": {
        "id": "nA9Y7ga8ng1Z"
      },
      "source": [
        "## ***2. Understanding Your Variables***"
      ]
    },
    {
      "cell_type": "code",
      "execution_count": null,
      "metadata": {
        "id": "j7xfkqrt5Ag5"
      },
      "outputs": [],
      "source": [
        "print(df.columns)"
      ]
    },
    {
      "cell_type": "code",
      "execution_count": null,
      "metadata": {
        "id": "DnOaZdaE5Q5t"
      },
      "outputs": [],
      "source": [
        "print(df.describe)"
      ]
    },
    {
      "cell_type": "markdown",
      "metadata": {
        "id": "PBTbrJXOngz2"
      },
      "source": [
        "### Variables Description"
      ]
    },
    {
      "cell_type": "markdown",
      "metadata": {
        "id": "aJV4KIxSnxay"
      },
      "source": [
        "**The data has 184 trading session days**\n",
        "\n",
        "1. Date = Represents the month and year of stock data.\tDatetime - Used to analyze trends over time and perform time-series analysis.\n",
        "2. Open = Opening price of the stock for the month. Numerical\tINR (₹) - Helps identify how the stock starts trading each month.\n",
        "3. High = Highest price of the stock for the month. Numerical\tINR (₹) - Indicates the stock's peak performance for the month.\n",
        "4. Low\t= Lowest price of the stock for the month.\tNumerical INR (₹) - Highlights the minimum price level, useful for understanding volatility.\n",
        "5. Close\tClosing price of the stock for the month. Numerical INR (₹)\t- Shows the stock's final value for the month, essential for trend analysis."
      ]
    },
    {
      "cell_type": "markdown",
      "metadata": {
        "id": "u3PMJOP6ngxN"
      },
      "source": [
        "**Check Unique Values for each variable.**"
      ]
    },
    {
      "cell_type": "code",
      "execution_count": null,
      "metadata": {
        "id": "zms12Yq5n-jE"
      },
      "outputs": [],
      "source": [
        "\n",
        "for column in df.columns:\n",
        "    print(f\"Column: {column}\")\n",
        "    print(f\"Unique Values: {df[column].unique()[:10]}\")\n",
        "    print(f\"Total Unique Values: {df[column].nunique()}\")\n",
        "    print(\"-\" * 40)\n"
      ]
    },
    {
      "cell_type": "markdown",
      "metadata": {
        "id": "GF8Ens_Soomf"
      },
      "source": [
        "## ***4. Data Visualization, Storytelling & Experimenting with charts : Understand the relationships between variables***"
      ]
    },
    {
      "cell_type": "markdown",
      "metadata": {
        "id": "0wOQAZs5pc--"
      },
      "source": [
        "#### Chart - 1 Line Chart: Stock Price Over Time"
      ]
    },
    {
      "cell_type": "code",
      "execution_count": null,
      "metadata": {
        "id": "7v_ESjsspbW7"
      },
      "outputs": [],
      "source": [
        "import pandas as pd\n",
        "import matplotlib.pyplot as plt\n",
        "\n",
        "# Ensure 'Date' column is in datetime format\n",
        "df['Date'] = pd.to_datetime(df['Date'], format='%b-%y')\n",
        "\n",
        "# Plot Closing Prices Over Time\n",
        "plt.figure(figsize=(12, 6))\n",
        "plt.plot(df['Date'], df['Close'], label='Closing Price', color='blue')\n",
        "plt.title('Yes Bank Stock Closing Price Over Time', fontsize=16)\n",
        "plt.xlabel('Date', fontsize=12)\n",
        "plt.ylabel('Closing Price (₹)', fontsize=12)\n",
        "plt.legend()\n",
        "plt.grid()  # Add grid for better readability\n",
        "plt.tight_layout()  # Adjust layout\n",
        "plt.show()"
      ]
    },
    {
      "cell_type": "markdown",
      "metadata": {
        "id": "3cspy4FjqxJW"
      },
      "source": [
        "* line chart helps to understand the flow and trace accurate price, it highlights, sharps changes in price, making an ideal for time-series analysis.\n",
        "\n",
        "* Here line chart is showing the closing price of stock traded during the trading hour which can be referred to know the recent and all time low, which has crossed below 25rs by 2020.\n",
        "\n",
        "* Business Impact:\n",
        "   1. Through this chart stakeholders can predict the performance of the stock and how it's performing, which can help to plan and decide the best area/zone to trade and invest (i.e - support and resistance zone)\n",
        "   2. The chart showcase that in long term fiancial impact of the scandal reflecting a loss in investor confidence and trust."
      ]
    },
    {
      "cell_type": "markdown",
      "metadata": {
        "id": "KSlN3yHqYklG"
      },
      "source": [
        "#### Chart - 2 Bar chart: Monthly Stock Prices"
      ]
    },
    {
      "cell_type": "code",
      "execution_count": null,
      "metadata": {
        "id": "R4YgtaqtYklH"
      },
      "outputs": [],
      "source": [
        "plt.figure(figsize=(12,6))\n",
        "plt.bar(df['Date'], df['High'], color='purple')\n",
        "plt.title('Monthly High Price')\n",
        "plt.xlabel('Date')\n",
        "plt.ylabel('High Price')\n",
        "plt.show()"
      ]
    },
    {
      "cell_type": "markdown",
      "metadata": {
        "id": "BcBbebzrYklV"
      },
      "source": [
        "* Bar chart helps to know the High createed by the stock on the monthly basis covering the period from 2006-2020. it represent the fluctions in the highest stock prices making it easier to understand the changes or patterns and to compare.\n",
        "\n",
        "* Here bar chart has been used to present the high created on mainly monthly basis where it has created roboust performance around year near 2016-2018 and decline after the scandal came out in year 2018 and price droped insiginficantly and stock failed to recover it and continue to create lower low.\n",
        "\n",
        "* Business impact:\n",
        "\n",
        "  1. Investment Timing :- Investors can identify the higher high resistance where he can determine the entry or exit points.\n",
        "  2. Risk Assesment :- By Observing the chart one can understand the after the 2018 the stock has fallen insignificantly and making investment in such stock can loose capital. so it is better to settle the stock and then invest.\n",
        "  3. Marketing strategy/ Historical Insights :- Through this chart stakeholders can understand and create the strategy for similar market scenario."
      ]
    },
    {
      "cell_type": "markdown",
      "metadata": {
        "id": "EM7whBJCYoAo"
      },
      "source": [
        "#### Chart - 3 Histogram: Distribution of closing price"
      ]
    },
    {
      "cell_type": "code",
      "execution_count": null,
      "metadata": {
        "id": "t6GMdE67YoAp"
      },
      "outputs": [],
      "source": [
        "plt.figure(figsize=(10,6))\n",
        "plt.hist(df['Close'], bins=20, color='red', edgecolor='black')\n",
        "plt.title('Distribution of closing price')\n",
        "plt.xlabel('closing price')\n",
        "plt.ylabel('Frequency')\n",
        "plt.show()"
      ]
    },
    {
      "cell_type": "markdown",
      "metadata": {
        "id": "zfJ8IqMcYoAp"
      },
      "source": [
        "* The Histogram has been used to display the frequency distribution of closing prices over the given dataset. This type of chart is ideal for understanding how stock prices are distributed within specific ranges.\n",
        "\n",
        "*  The majority of closing prices fall within the ₹0-₹50 range, highlighting a concentration in lower price levels.As the closing price increases, the frequency decreases significantly, with very few observations above ₹200. This indicates that Yes Bank's stock prices were mostly traded at lower levels during the analyzed period, likely reflecting the impact of financial challenges.\n",
        "\n",
        "* This chart show the low made by the stock price, which again shows that stock was making lower low by each trading session, which can help the investors and company to know till where the support level is there and from where it can support and bounce back."
      ]
    },
    {
      "cell_type": "markdown",
      "metadata": {
        "id": "4Of9eVA-YrdM"
      },
      "source": [
        "#### Chart - 4 Bar plot: Price Volaltity"
      ]
    },
    {
      "cell_type": "code",
      "execution_count": null,
      "metadata": {
        "id": "irlUoxc8YrdO"
      },
      "outputs": [],
      "source": [
        "plt.figure(figsize=(10,6))\n",
        "sns.boxplot(data=df[['Open', 'High', 'Low', 'Close']])\n",
        "plt.title('Stock Price Volatility')\n",
        "plt.ylabel('Frequency')\n",
        "plt.show()"
      ]
    },
    {
      "cell_type": "markdown",
      "metadata": {
        "id": "jLNxxz7MYrdP"
      },
      "source": [
        "*  The Box Plot was selected because it provides a clear and concise summary of the distribution and variability (volatility) of stock prices for the four categories: Open, High, Low, and Close prices. It visually highlights the central tendency, spread, and outliers, which are critical for understanding the behavior of stock prices over time. Box plots are especially useful for comparing multiple categories side by side.\n",
        "\n",
        "*  The chart displays the spread of stock price data for each category (Open, High, Low, Close) through quartiles, The median line within each box indicates the central value, showing the typical price for each category. The wiskers extend to data pointa within 1.5 time the interquartile range providing into the range of prices.\n",
        "\n",
        "* Business Impact:-\n",
        "   1. Risk Management: By analyzing volatility, businesses and investors can identify periods of heightened risk and strategize accordingly.\n",
        "   2. Investment Strategy: Outliers and range help investors decide on entry and exit points for their, optiming profitability."
      ]
    },
    {
      "cell_type": "markdown",
      "metadata": {
        "id": "bamQiAODYuh1"
      },
      "source": [
        "#### Chart - 5 Scatter plot: Opening vs. Closing Prices"
      ]
    },
    {
      "cell_type": "code",
      "execution_count": null,
      "metadata": {
        "id": "TIJwrbroYuh3"
      },
      "outputs": [],
      "source": [
        "# Chart 13: Stock price scatter plot\n",
        "plt.figure(figsize=(10,6))\n",
        "plt.scatter(df['Date'], df['Close'])\n",
        "plt.title('Stock Prices Scatter Plot')\n",
        "plt.xlabel('Date')\n",
        "plt.ylabel('Price')\n",
        "plt.show()"
      ]
    },
    {
      "cell_type": "markdown",
      "metadata": {
        "id": "_WtzZ_hCYuh4"
      },
      "source": [
        "* The Scatter Plot has been used because it is ideal for displaying the individual data points over time, allowing a clear visualization of the fluctuations and trends in Yes Bank's stock prices.\n",
        "\n",
        "* The chart shows the trend and fluctuations in Yes Bank stock prices from 2006 to 2020.\n",
        "It highlights a gradual rise in stock prices from 2006 until around 2014, followed by a sharp increase peaking in 2018.After 2018, there is a steep decline, reflecting the impact of the financial fraud case and loss of investor confidence.\n",
        "\n",
        "* Scatter Plot help to visualize the opening vs. closing price of stock, Businesses can strategize on stock derivatives and predict market behavior efficiently using such datachart provides insights into the historical performance of Yes Bank's stock, helping stakeholders understand the trends and critical events affecting stock prices."
      ]
    },
    {
      "cell_type": "markdown",
      "metadata": {
        "id": "OH-pJp9IphqM"
      },
      "source": [
        "#### Chart - 6 Pie Chart:percentage of high and low price"
      ]
    },
    {
      "cell_type": "code",
      "execution_count": null,
      "metadata": {
        "id": "kuRf4wtuphqN"
      },
      "outputs": [],
      "source": [
        "mean_high = df['High'].mean()\n",
        "mean_low = df['Low'].mean()\n",
        "labels = ['high', 'Low']\n",
        "sizes = [mean_high, mean_low]\n",
        "\n",
        "plt.figure(figsize=(10,6))\n",
        "plt.pie(sizes, labels=labels, autopct = '%1.1f%%', colors =['gold', 'lightblue'])\n",
        "plt.title('High vs low prices (percentage)')\n",
        "plt.show()\n"
      ]
    },
    {
      "cell_type": "markdown",
      "metadata": {
        "id": "DW4_bGpfphqN"
      },
      "source": [
        "* The Pie Chart has been used because it provides a clear and simple visual representation of the proportion of high prices versus low prices in the datase.\n",
        "\n",
        "* The chart shows that 55.0% of the data represents high prices, while 45.0% represents low prices.\n",
        "This highlights a slight dominance of high prices in the dataset, indicating that during the period analyzed, high prices occurred more frequently than low prices.\n",
        "\n",
        "* This pie charts shows that maximum time the stock has crated higher high which had a good sign with good pontential to perform great, and which was performing but due to scam it has fallen from its high."
      ]
    },
    {
      "cell_type": "markdown",
      "metadata": {
        "id": "PIIx-8_IphqN"
      },
      "source": [
        "#### Chart - 7 Rolling mean chart: Smoothed closing Price"
      ]
    },
    {
      "cell_type": "code",
      "execution_count": null,
      "metadata": {
        "id": "lqAIGUfyphqO"
      },
      "outputs": [],
      "source": [
        "df['SMA_3'] = df['Close'].rolling(window=3).mean()  # 3-month rolling average\n",
        "plt.figure(figsize=(12, 6))\n",
        "plt.plot(df['Date'], df['Close'], label='Closing Price', alpha=0.6)\n",
        "plt.plot(df['Date'], df['SMA_3'], label='3-Month SMA', color='red')\n",
        "plt.title('Closing Prices with 3-Month Rolling Mean')\n",
        "plt.xlabel('Date')\n",
        "plt.ylabel('Closing Price')\n",
        "plt.legend()\n",
        "plt.show()\n"
      ]
    },
    {
      "cell_type": "markdown",
      "metadata": {
        "id": "xvSq8iUTphqO"
      },
      "source": [
        "* This Line Chart with a 3-Month Rolling Mean (SMA) has been used to track and smooth the fluctuations in Yes Bank’s closing stock prices over time (2005–2020). The actual closing prices (blue line) represent raw data, while the rolling mean (red line) highlights the underlying trend by reducing short-term noise. This makes it easier to spot consistent trends, peaks, and dips, which are critical for long-term analysis.\n",
        "\n",
        "* The blue line represents actual closing stock prices, showcasing significant fluctuations.The red line smooths these prices using a 3-month rolling average, revealing a clearer picture of price trends.\n",
        "\n",
        "* Business Impact:\n",
        "  1. Long-Term Trend Analysis: The rolling mean provides insights into the stock’s broader performance trends, helping businesses and investors plan long-term strategies.\n",
        "\n",
        "  2. Noise Reduction for Clarity: By smoothing out daily volatility, the rolling mean offers a reliable basis for decision-making.\n",
        "\n",
        "  3. Market Behavior Insights: The chart highlights the significant price drop post-2018, emphasizing the lasting impact of external events like the scandal.\n",
        "\n",
        "  4. Investment Strategies: This visualization helps identify support levels and patterns, enabling investors to make informed decisions on buying, selling, or holding stocks."
      ]
    },
    {
      "cell_type": "markdown",
      "metadata": {
        "id": "BZR9WyysphqO"
      },
      "source": [
        "#### Chart - 8 Violin Plot: Distribution of Prices"
      ]
    },
    {
      "cell_type": "code",
      "execution_count": null,
      "metadata": {
        "id": "TdPTWpAVphqO"
      },
      "outputs": [],
      "source": [
        "plt.figure(figsize =(8,6))\n",
        "sns.violinplot(data=df[['Open', 'High', 'Low', 'Close']])\n",
        "plt.title('violin plot of stock price')\n",
        "plt.show()"
      ]
    },
    {
      "cell_type": "markdown",
      "metadata": {
        "id": "Ob8u6rCTphqO"
      },
      "source": [
        "* This Line Chart with a 3-Month Rolling Mean (SMA) has been used to track and smooth the fluctuations in Yes Bank’s closing stock prices over time (2005–2020). The actual closing prices (blue line) represent raw data, while the rolling mean (red line) highlights the underlying trend by reducing short-term noise. This makes it easier to spot consistent trends, peaks, and dips, which are critical for long-term analysis.\n",
        "\n",
        "* 1. The blue line represents actual closing stock prices, showcasing significant fluctuations.\n",
        "The red line smooths these prices using a 3-month rolling average, revealing a clearer picture of price trends.\n",
        "  2. It highlights major events, such as the peak before 2018, followed by a steep decline after the financial fraud scandal.\n",
        "  3. Toward 2020, the chart shows lower closing prices with limited signs of recovery.\n",
        "\n",
        "* Business Impact:-\n",
        "   1. Long-Term Trend Analysis: The rolling mean provides insights into the stock’s broader performance trends, helping businesses and investors plan long-term strategies.\n",
        "   2. Noise Reduction for Clarity: By smoothing out daily volatility, the rolling mean offers a reliable basis for decision-making."
      ]
    },
    {
      "cell_type": "markdown",
      "metadata": {
        "id": "U2RJ9gkRphqQ"
      },
      "source": [
        "#### Chart - 9 Pair Plot: Relationships Between Variables"
      ]
    },
    {
      "cell_type": "code",
      "execution_count": null,
      "metadata": {
        "id": "GM7a4YP4phqQ"
      },
      "outputs": [],
      "source": [
        "plt.figure(figsize=(8, 6))\n",
        "sns.kdeplot(df['Close'], shade=True, color='navy')\n",
        "plt.title('Closing Price Density Plot')\n",
        "plt.xlabel('Closing Price')\n",
        "plt.ylabel('Density')\n",
        "plt.show()"
      ]
    },
    {
      "cell_type": "markdown",
      "metadata": {
        "id": "druuKYZpp1ck"
      },
      "source": [
        "* This chart is excellent for visualizing the distribution of closing prices over the trading sessions. A density plot helps identify patterns, clusters, and where most of the data is concentrated, without the granularity of individual points like a scatterplot or the rigidity of a histogram.\n",
        "\n",
        "* The plot shows that most of the closing prices are clustered around ₹50, as indicated by the peak in density in that range. The density gradually declines as prices move away from this peak, with a smaller secondary bump around ₹300, indicating some trading activity there as well.\n",
        "\n",
        "* Chart clearly shows that the density of of the stock closing priced are concentrated. represent the most probable price ranges, helping investors determine the price points at which the stock is commonly traded. This is crucial for assessing the stock's market demand and stability."
      ]
    },
    {
      "cell_type": "markdown",
      "metadata": {
        "id": "n3dbpmDWp1ck"
      },
      "source": [
        "#### Chart - 10 Stacked Bar Chart: Comparing High, Low, Open, and Close"
      ]
    },
    {
      "cell_type": "code",
      "execution_count": null,
      "metadata": {
        "id": "bwevp1tKp1ck"
      },
      "outputs": [],
      "source": [
        "import numpy as np\n",
        "\n",
        "ind = np.arange(len(df))  # X-axis indices\n",
        "plt.figure(figsize=(12, 6))\n",
        "plt.bar(ind, df['Open'], label='Open', color='orange')\n",
        "plt.bar(ind, df['Close'], bottom=df['Open'], label='Close', color='blue')\n",
        "plt.bar(ind, df['High'], bottom=df['Close'], label='High', color='green')\n",
        "plt.bar(ind, df['Low'], bottom=df['High'], label='Low', color='red')\n",
        "plt.title('Stacked Bar Chart of Prices')\n",
        "plt.xlabel('Days')\n",
        "plt.ylabel('Price (₹)')\n",
        "plt.legend()\n",
        "plt.tight_layout()\n",
        "plt.show()\n"
      ]
    },
    {
      "cell_type": "markdown",
      "metadata": {
        "id": "ylSl6qgtp1ck"
      },
      "source": [
        "* Using a stacked format provides a cumulative view of these price types on a daily basis, making it easier to observe the interplay and relative differences.\n",
        "\n",
        "* The chart visually represents how the prices (Open, Close, High, and Low) are distributed for each trading day over the specified period. For instance, it shows:\n",
        "Daily price fluctuations.\n",
        "Comparisons between the highest and lowest prices on any given day.\n",
        "Trends and anomalies within the range of price\n",
        "\n",
        "* Business Impact:-\n",
        "   1. Market Dynamics Insight: By examining the interplay of these prices, one can better understand market sentiment and trading activity.\n",
        "   2. Trend Analysis: Businesses and investors can identify recurring patterns over time, such as regular peaks in High prices or consistency in Closing prices."
      ]
    },
    {
      "cell_type": "markdown",
      "metadata": {
        "id": "NC_X3p0fY2L0"
      },
      "source": [
        "#### Chart - 11 - Correlation Heatmap"
      ]
    },
    {
      "cell_type": "code",
      "execution_count": null,
      "metadata": {
        "id": "xyC9zolEZNRQ"
      },
      "outputs": [],
      "source": [
        "plt.figure(figsize=(8, 6))\n",
        "sns.heatmap(df.corr(), annot=True, cmap='coolwarm')\n",
        "plt.title('Correlation Heatmap')\n",
        "plt.show()\n"
      ]
    },
    {
      "cell_type": "markdown",
      "metadata": {
        "id": "UV0SzAkaZNRQ"
      },
      "source": [
        "##### 1. Why did you pick the specific chart?"
      ]
    },
    {
      "cell_type": "markdown",
      "metadata": {
        "id": "DVPuT8LYZNRQ"
      },
      "source": [
        "Tool for visualizing relationships between numerical variables in the dataset helps in identifying patterns or dependencies among stock price variables, which are crucial for financial analysis and prediction."
      ]
    },
    {
      "cell_type": "markdown",
      "metadata": {
        "id": "YPEH6qLeZNRQ"
      },
      "source": [
        "##### 2. What is/are the insight(s) found from the chart?"
      ]
    },
    {
      "cell_type": "markdown",
      "metadata": {
        "id": "bfSqtnDqZNRR"
      },
      "source": [
        "The open, high, low, close price exhibit a very high positive correlation with one another (close to 1) which tends to move together, meaning one price increases, others generally so as well.\n",
        "These insights highlight the strong interdependence of stock price variables, which is expected in financial data. It also suggests that these factors can collectively provide valuable inputs for predicting trends or patterns in stock prices."
      ]
    },
    {
      "cell_type": "markdown",
      "metadata": {
        "id": "q29F0dvdveiT"
      },
      "source": [
        "#### Chart - 12 - Pair Plot"
      ]
    },
    {
      "cell_type": "code",
      "execution_count": null,
      "metadata": {
        "id": "o58-TEIhveiU"
      },
      "outputs": [],
      "source": [
        "sns.pairplot(df[['Open', 'High', 'Low', 'Close']])\n",
        "plt.show()\n"
      ]
    },
    {
      "cell_type": "markdown",
      "metadata": {
        "id": "EXh0U9oCveiU"
      },
      "source": [
        "##### 1. Why did you pick the specific chart?"
      ]
    },
    {
      "cell_type": "markdown",
      "metadata": {
        "id": "eMmPjTByveiU"
      },
      "source": [
        "Pair plot help to visualizing both the distribution of individual variables and realationships with them, it helps how open. close, low, high correlate with each other, it also highlight the patterns and dependencies through scatter plots, while histogram on the diagonal give plots, and diagonal give insights into distribution of each variable."
      ]
    },
    {
      "cell_type": "markdown",
      "metadata": {
        "id": "22aHeOlLveiV"
      },
      "source": [
        "##### 2. What is/are the insight(s) found from the chart?"
      ]
    },
    {
      "cell_type": "markdown",
      "metadata": {
        "id": "uPQ8RGwHveiV"
      },
      "source": [
        "Chart clearly shows that every aspect shows that every variable are interdependent each other, which shows the stock price often cluster at lower ranges and there is conistency among chart which can be help in prediction of price."
      ]
    },
    {
      "cell_type": "markdown",
      "metadata": {
        "id": "JcMwzZxoAimU"
      },
      "source": [
        "## **5. Solution to Business Objective**"
      ]
    },
    {
      "cell_type": "markdown",
      "metadata": {
        "id": "8G2x9gOozGDZ"
      },
      "source": [
        "#### What do you suggest the client to achieve Business Objective ?\n"
      ]
    },
    {
      "cell_type": "markdown",
      "metadata": {
        "id": "pASKb0qOza21"
      },
      "source": [
        "**The analysis of Bank stock reveals key siginificant drops the business objective.**\n",
        "\n",
        "  * Trend Analysis: The line chart highlights that before the Kapoor sacandal has came out that is before 2018 the stock was performing very     well creating higher hhigher but all those trend changes and drop of price can help business to prepare strategize for similar market        scenarios.\n",
        "  * Volatility Analysis: Box plot and violin plots reveal periods of high volatility, helping the stakeholders to identify the patterns and      adjust risk management stratgies.\n",
        "  * Behavioural Pattern: Correlation heatmaps and pair plots emphasize the strong interdepandece of variables like open,close,high,low  price     which can be leveraged for predictive modeling and decision making.\n",
        "  * Support and Resistance: Histograms and scatters plot show recurring price ranges,helping to identify the possible support and resistance     of the stock price  which can be used for critical investment for making higher profits.\n",
        "  * Market Recovery Potential: Rolling average and dennsity plots highlight the possiblity of market recovery, providing investors,stakeholers with a roadmap for pontential buyback or sell off startegies."
      ]
    },
    {
      "cell_type": "markdown",
      "metadata": {
        "id": "gCX9965dhzqZ"
      },
      "source": [
        "# **Conclusion**"
      ]
    },
    {
      "cell_type": "markdown",
      "metadata": {
        "id": "Fjb1IsQkh3yE"
      },
      "source": [
        "The exploratory data analysis provides a comprehensive understanding of Yes Bank's stock performance before and after the scandal. The findings indicate a severe decline in stock prices following the 2018 scandal, along with notable periods of volatility. Despite the challenges, the data also shows potential recovery trends and strong interrelations among stock price variables. 📉📈\n",
        "\n",
        "These insights can serve as a foundation for data-driven decision-making. Whether it's for investment strategies, risk mitigation, or forecasting, businesses can confidently use this analysis to navigate Yes Bank's market trends and make informed decisions going forward. 📊🔍"
      ]
    },
    {
      "cell_type": "markdown",
      "source": [
        "**Hurrah! I have successfully completed your EDA Capstone Project !!!**"
      ],
      "metadata": {
        "id": "uqoC1TjOWzRl"
      }
    },
    {
      "cell_type": "code",
      "execution_count": null,
      "metadata": {
        "id": "dYX880etpL0x"
      },
      "outputs": [],
      "source": []
    },
    {
      "cell_type": "code",
      "execution_count": null,
      "metadata": {
        "id": "-6Vl263upPVI"
      },
      "outputs": [],
      "source": []
    }
  ],
  "metadata": {
    "colab": {
      "collapsed_sections": [
        "vncDsAP0Gaoa",
        "FJNUwmbgGyua",
        "w6K7xa23Elo4",
        "yQaldy8SH6Dl",
        "PH-0ReGfmX4f",
        "mDgbUHAGgjLW",
        "O_i_v8NEhb9l",
        "HhfV-JJviCcP",
        "Y3lxredqlCYt",
        "3RnN4peoiCZX",
        "x71ZqKXriCWQ",
        "7hBIi_osiCS2",
        "JlHwYmJAmNHm",
        "35m5QtbWiB9F",
        "PoPl-ycgm1ru",
        "H0kj-8xxnORC",
        "nA9Y7ga8ng1Z",
        "PBTbrJXOngz2",
        "u3PMJOP6ngxN",
        "dauF4eBmngu3",
        "bKJF3rekwFvQ",
        "MSa1f5Uengrz",
        "GF8Ens_Soomf",
        "0wOQAZs5pc--",
        "K5QZ13OEpz2H",
        "lQ7QKXXCp7Bj",
        "448CDAPjqfQr",
        "KSlN3yHqYklG",
        "t6dVpIINYklI",
        "ijmpgYnKYklI",
        "-JiQyfWJYklI",
        "EM7whBJCYoAo",
        "fge-S5ZAYoAp",
        "85gYPyotYoAp",
        "RoGjAbkUYoAp",
        "4Of9eVA-YrdM",
        "iky9q4vBYrdO",
        "F6T5p64dYrdO",
        "y-Ehk30pYrdP",
        "bamQiAODYuh1",
        "QHF8YVU7Yuh3",
        "GwzvFGzlYuh3",
        "qYpmQ266Yuh3",
        "OH-pJp9IphqM",
        "bbFf2-_FphqN",
        "_ouA3fa0phqN",
        "Seke61FWphqN",
        "PIIx-8_IphqN",
        "t27r6nlMphqO",
        "r2jJGEOYphqO",
        "b0JNsNcRphqO",
        "BZR9WyysphqO",
        "jj7wYXLtphqO",
        "eZrbJ2SmphqO",
        "rFu4xreNphqO",
        "YJ55k-q6phqO",
        "gCFgpxoyphqP",
        "OVtJsKN_phqQ",
        "lssrdh5qphqQ",
        "U2RJ9gkRphqQ",
        "1M8mcRywphqQ",
        "tgIPom80phqQ",
        "JMzcOPDDphqR",
        "x-EpHcCOp1ci",
        "X_VqEhTip1ck",
        "8zGJKyg5p1ck",
        "PVzmfK_Ep1ck",
        "n3dbpmDWp1ck",
        "ylSl6qgtp1ck",
        "ZWILFDl5p1ck",
        "M7G43BXep1ck",
        "Ag9LCva-p1cl",
        "E6MkPsBcp1cl",
        "2cELzS2fp1cl",
        "3MPXvC8up1cl",
        "NC_X3p0fY2L0",
        "UV0SzAkaZNRQ",
        "YPEH6qLeZNRQ",
        "q29F0dvdveiT",
        "EXh0U9oCveiU",
        "22aHeOlLveiV",
        "JcMwzZxoAimU",
        "8G2x9gOozGDZ",
        "gCX9965dhzqZ",
        "gIfDvo9L0UH2"
      ],
      "private_outputs": true,
      "provenance": []
    },
    "kernelspec": {
      "display_name": "Python 3 (ipykernel)",
      "language": "python",
      "name": "python3"
    },
    "language_info": {
      "codemirror_mode": {
        "name": "ipython",
        "version": 3
      },
      "file_extension": ".py",
      "mimetype": "text/x-python",
      "name": "python",
      "nbconvert_exporter": "python",
      "pygments_lexer": "ipython3",
      "version": "3.11.7"
    }
  },
  "nbformat": 4,
  "nbformat_minor": 0
}